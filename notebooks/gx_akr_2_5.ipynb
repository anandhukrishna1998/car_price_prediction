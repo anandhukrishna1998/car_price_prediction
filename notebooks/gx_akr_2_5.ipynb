{
 "cells": [
  {
   "cell_type": "code",
   "execution_count": 24,
   "id": "b8c239b9-a16e-4dda-8fce-4e699ec976d2",
   "metadata": {},
   "outputs": [
    {
     "data": {
      "application/vnd.jupyter.widget-view+json": {
       "model_id": "7f679e8a46ab48a49c1dff19a13ffecd",
       "version_major": 2,
       "version_minor": 0
      },
      "text/plain": [
       "Calculating Metrics:   0%|          | 0/87 [00:00<?, ?it/s]"
      ]
     },
     "metadata": {},
     "output_type": "display_data"
    },
    {
     "name": "stdout",
     "output_type": "stream",
     "text": [
      "Data Docs generated at: file:///home/sachin/DSP/gx/uncommitted/data_docs/local_site/index.html\n"
     ]
    }
   ],
   "source": [
    "import great_expectations as ge\n",
    "from great_expectations.data_context import DataContext\n",
    "from great_expectations.core.batch import BatchRequest\n",
    "\n",
    "# Load your existing Data Context\n",
    "ge_project_directory = '/home/sachin/DSP/gx'\n",
    "context = DataContext(context_root_dir=ge_project_directory)\n",
    "\n",
    "# Suite name (already existing)\n",
    "suite_name = \"my_ex\"\n",
    "\n",
    "# Define the batch request for loading data correctly\n",
    "batch_request = BatchRequest(\n",
    "    datasource_name=\"my_csv_datasource\",\n",
    "    data_connector_name=\"default_inferred_data_connector_name\",\n",
    "    data_asset_name=\"data_chunk_618\"\n",
    ")\n",
    "\n",
    "\n",
    "\n",
    "# Load the batch data using get_batch_list\n",
    "batch_list = context.get_batch_list(batch_request=batch_request)\n",
    "batch = batch_list[0]  # Assuming there's only one batch or the first is what you want to validate.\n",
    "\n",
    "\n",
    "\n",
    "# Create a checkpoint for validation\n",
    "checkpoint_name = \"my_checkpoint\"\n",
    "context.add_checkpoint(\n",
    "    name=checkpoint_name,\n",
    "    config_version=1,\n",
    "    class_name=\"SimpleCheckpoint\",\n",
    "    validations=[\n",
    "        {\n",
    "            \"batch_request\": batch_request.to_json_dict(),\n",
    "            \"expectation_suite_name\": suite_name,\n",
    "        }\n",
    "    ]\n",
    ")\n",
    "\n",
    "# Run the checkpoint\n",
    "checkpoint_result = context.run_checkpoint(checkpoint_name=checkpoint_name)\n",
    "\n",
    "# Build and print the location of Data Docs\n",
    "context.build_data_docs()\n",
    "data_docs_site = context.get_docs_sites_urls()[0][\"site_url\"]\n",
    "print(f\"Data Docs generated at: {data_docs_site}\")\n",
    "\n",
    "# Data Docs are now available for review at the provided URL"
   ]
  },
  {
   "cell_type": "code",
   "execution_count": 23,
   "id": "9d649a57-831d-4053-a437-15be1503bb0d",
   "metadata": {},
   "outputs": [
    {
     "ename": "AttributeError",
     "evalue": "'DataContextConfig' object has no attribute 'validation_operators'",
     "output_type": "error",
     "traceback": [
      "\u001b[0;31m---------------------------------------------------------------------------\u001b[0m",
      "\u001b[0;31mAttributeError\u001b[0m                            Traceback (most recent call last)",
      "Cell \u001b[0;32mIn[23], line 1\u001b[0m\n\u001b[0;32m----> 1\u001b[0m validation_operators \u001b[38;5;241m=\u001b[39m \u001b[43mcontext\u001b[49m\u001b[38;5;241;43m.\u001b[39;49m\u001b[43mlist_validation_operators\u001b[49m\u001b[43m(\u001b[49m\u001b[43m)\u001b[49m\n\u001b[1;32m      2\u001b[0m \u001b[38;5;28mprint\u001b[39m(\u001b[38;5;124m\"\u001b[39m\u001b[38;5;124mAvailable validation operators:\u001b[39m\u001b[38;5;124m\"\u001b[39m, validation_operators)\n",
      "File \u001b[0;32m~/anaconda3/envs/project/lib/python3.9/site-packages/great_expectations/data_context/data_context/abstract_data_context.py:3512\u001b[0m, in \u001b[0;36mAbstractDataContext.list_validation_operators\u001b[0;34m(self)\u001b[0m\n\u001b[1;32m   3506\u001b[0m \u001b[38;5;250m\u001b[39m\u001b[38;5;124;03m\"\"\"List currently-configured Validation Operators on this context\"\"\"\u001b[39;00m\n\u001b[1;32m   3508\u001b[0m validation_operators \u001b[38;5;241m=\u001b[39m []\n\u001b[1;32m   3509\u001b[0m \u001b[38;5;28;01mfor\u001b[39;00m (\n\u001b[1;32m   3510\u001b[0m     name,\n\u001b[1;32m   3511\u001b[0m     value,\n\u001b[0;32m-> 3512\u001b[0m ) \u001b[38;5;129;01min\u001b[39;00m \u001b[38;5;28;43mself\u001b[39;49m\u001b[38;5;241;43m.\u001b[39;49m\u001b[43mvariables\u001b[49m\u001b[38;5;241;43m.\u001b[39;49m\u001b[43mvalidation_operators\u001b[49m\u001b[38;5;241m.\u001b[39mitems():\n\u001b[1;32m   3513\u001b[0m     value[\u001b[38;5;124m\"\u001b[39m\u001b[38;5;124mname\u001b[39m\u001b[38;5;124m\"\u001b[39m] \u001b[38;5;241m=\u001b[39m name\n\u001b[1;32m   3514\u001b[0m     validation_operators\u001b[38;5;241m.\u001b[39mappend(value)\n",
      "File \u001b[0;32m~/anaconda3/envs/project/lib/python3.9/site-packages/great_expectations/data_context/data_context_variables.py:163\u001b[0m, in \u001b[0;36mDataContextVariables.validation_operators\u001b[0;34m(self)\u001b[0m\n\u001b[1;32m    161\u001b[0m \u001b[38;5;129m@property\u001b[39m\n\u001b[1;32m    162\u001b[0m \u001b[38;5;28;01mdef\u001b[39;00m \u001b[38;5;21mvalidation_operators\u001b[39m(\u001b[38;5;28mself\u001b[39m) \u001b[38;5;241m-\u001b[39m\u001b[38;5;241m>\u001b[39m Optional[\u001b[38;5;28mdict\u001b[39m]:\n\u001b[0;32m--> 163\u001b[0m     \u001b[38;5;28;01mreturn\u001b[39;00m \u001b[38;5;28;43mself\u001b[39;49m\u001b[38;5;241;43m.\u001b[39;49m\u001b[43m_get\u001b[49m\u001b[43m(\u001b[49m\u001b[43mDataContextVariableSchema\u001b[49m\u001b[38;5;241;43m.\u001b[39;49m\u001b[43mVALIDATION_OPERATORS\u001b[49m\u001b[43m)\u001b[49m\n",
      "File \u001b[0;32m~/anaconda3/envs/project/lib/python3.9/site-packages/great_expectations/data_context/data_context_variables.py:123\u001b[0m, in \u001b[0;36mDataContextVariables._get\u001b[0;34m(self, attr)\u001b[0m\n\u001b[1;32m    121\u001b[0m \u001b[38;5;28;01mdef\u001b[39;00m \u001b[38;5;21m_get\u001b[39m(\u001b[38;5;28mself\u001b[39m, attr: DataContextVariableSchema) \u001b[38;5;241m-\u001b[39m\u001b[38;5;241m>\u001b[39m Any:\n\u001b[1;32m    122\u001b[0m     key: \u001b[38;5;28mstr\u001b[39m \u001b[38;5;241m=\u001b[39m attr\u001b[38;5;241m.\u001b[39mvalue\n\u001b[0;32m--> 123\u001b[0m     val: Any \u001b[38;5;241m=\u001b[39m \u001b[38;5;28;43mself\u001b[39;49m\u001b[38;5;241;43m.\u001b[39;49m\u001b[43mconfig\u001b[49m\u001b[43m[\u001b[49m\u001b[43mkey\u001b[49m\u001b[43m]\u001b[49m\n\u001b[1;32m    124\u001b[0m     substituted_val: Any \u001b[38;5;241m=\u001b[39m \u001b[38;5;28mself\u001b[39m\u001b[38;5;241m.\u001b[39mconfig_provider\u001b[38;5;241m.\u001b[39msubstitute_config(val)\n\u001b[1;32m    125\u001b[0m     \u001b[38;5;28;01mreturn\u001b[39;00m substituted_val\n",
      "File \u001b[0;32m~/anaconda3/envs/project/lib/python3.9/site-packages/great_expectations/types/__init__.py:70\u001b[0m, in \u001b[0;36mDictDot.__getitem__\u001b[0;34m(self, item)\u001b[0m\n\u001b[1;32m     68\u001b[0m \u001b[38;5;28;01mif\u001b[39;00m \u001b[38;5;28misinstance\u001b[39m(item, \u001b[38;5;28mint\u001b[39m):\n\u001b[1;32m     69\u001b[0m     \u001b[38;5;28;01mreturn\u001b[39;00m \u001b[38;5;28mlist\u001b[39m(\u001b[38;5;28mself\u001b[39m\u001b[38;5;241m.\u001b[39m\u001b[38;5;18m__dict__\u001b[39m\u001b[38;5;241m.\u001b[39mkeys())[item]\n\u001b[0;32m---> 70\u001b[0m \u001b[38;5;28;01mreturn\u001b[39;00m \u001b[38;5;28;43mgetattr\u001b[39;49m\u001b[43m(\u001b[49m\u001b[38;5;28;43mself\u001b[39;49m\u001b[43m,\u001b[49m\u001b[43m \u001b[49m\u001b[43mitem\u001b[49m\u001b[43m)\u001b[49m\n",
      "\u001b[0;31mAttributeError\u001b[0m: 'DataContextConfig' object has no attribute 'validation_operators'"
     ]
    }
   ],
   "source": [
    "validation_operators = context.list_validation_operators()\n",
    "print(\"Available validation operators:\", validation_operators)\n"
   ]
  },
  {
   "cell_type": "code",
   "execution_count": null,
   "id": "f5c2b19f-378f-4569-84cb-60970e51322c",
   "metadata": {},
   "outputs": [],
   "source": []
  }
 ],
 "metadata": {
  "kernelspec": {
   "display_name": "Python 3 (ipykernel)",
   "language": "python",
   "name": "python3"
  },
  "language_info": {
   "codemirror_mode": {
    "name": "ipython",
    "version": 3
   },
   "file_extension": ".py",
   "mimetype": "text/x-python",
   "name": "python",
   "nbconvert_exporter": "python",
   "pygments_lexer": "ipython3",
   "version": "3.9.19"
  }
 },
 "nbformat": 4,
 "nbformat_minor": 5
}
