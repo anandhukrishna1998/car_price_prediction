{
 "cells": [
  {
   "cell_type": "code",
   "execution_count": 1,
   "id": "ffd4f74f-e3c8-4af3-b71c-e31a289d2198",
   "metadata": {},
   "outputs": [],
   "source": [
    "import pandas as pd\n",
    "from great_expectations import dataset\n",
    "import json"
   ]
  },
  {
   "cell_type": "code",
   "execution_count": 2,
   "id": "f357d766-4e1f-4853-8836-f56d3a0cbf7f",
   "metadata": {},
   "outputs": [],
   "source": [
    "# Load the dataset\n",
    "df = pd.read_csv('/home/sachin/DSP/airflow-spike-master/input_data/raw-data/data_chunk_609.csv')\n",
    "\n",
    "# Create a Great Expectations dataset object\n",
    "ge_dataset = dataset.PandasDataset(df)"
   ]
  },
  {
   "cell_type": "code",
   "execution_count": 3,
   "id": "74e2e071-433b-47f9-b1bb-e233ad723d26",
   "metadata": {},
   "outputs": [
    {
     "data": {
      "text/html": [
       "<div>\n",
       "<style scoped>\n",
       "    .dataframe tbody tr th:only-of-type {\n",
       "        vertical-align: middle;\n",
       "    }\n",
       "\n",
       "    .dataframe tbody tr th {\n",
       "        vertical-align: top;\n",
       "    }\n",
       "\n",
       "    .dataframe thead th {\n",
       "        text-align: right;\n",
       "    }\n",
       "</style>\n",
       "<table border=\"1\" class=\"dataframe\">\n",
       "  <thead>\n",
       "    <tr style=\"text-align: right;\">\n",
       "      <th></th>\n",
       "      <th>name</th>\n",
       "      <th>year</th>\n",
       "      <th>selling_price</th>\n",
       "      <th>km_driven</th>\n",
       "      <th>fuel</th>\n",
       "      <th>seller_type</th>\n",
       "      <th>transmission</th>\n",
       "      <th>owner</th>\n",
       "      <th>mileage</th>\n",
       "      <th>engine</th>\n",
       "      <th>max_power</th>\n",
       "      <th>seats</th>\n",
       "      <th>car_company_name</th>\n",
       "    </tr>\n",
       "  </thead>\n",
       "  <tbody>\n",
       "    <tr>\n",
       "      <th>0</th>\n",
       "      <td>Fiat Punto 1.3 Emotion</td>\n",
       "      <td>2009</td>\n",
       "      <td>150000</td>\n",
       "      <td>153000</td>\n",
       "      <td>Diesel</td>\n",
       "      <td>Individual</td>\n",
       "      <td>Manual</td>\n",
       "      <td>Second Owner</td>\n",
       "      <td>NaN</td>\n",
       "      <td>NaN</td>\n",
       "      <td>NaN</td>\n",
       "      <td>NaN</td>\n",
       "      <td>Fiat</td>\n",
       "    </tr>\n",
       "    <tr>\n",
       "      <th>1</th>\n",
       "      <td>Maruti Vitara Brezza VDi</td>\n",
       "      <td>2018</td>\n",
       "      <td>825000</td>\n",
       "      <td>35000</td>\n",
       "      <td>Diesel</td>\n",
       "      <td>Individual</td>\n",
       "      <td>Manual</td>\n",
       "      <td>First Owner</td>\n",
       "      <td>24.30</td>\n",
       "      <td>1248.0</td>\n",
       "      <td>88.5</td>\n",
       "      <td>5.0</td>\n",
       "      <td>Maruti</td>\n",
       "    </tr>\n",
       "    <tr>\n",
       "      <th>2</th>\n",
       "      <td>Tata Safari Storme VX</td>\n",
       "      <td>2016</td>\n",
       "      <td>650000</td>\n",
       "      <td>60000</td>\n",
       "      <td>Diesel</td>\n",
       "      <td>Individual</td>\n",
       "      <td>Manual</td>\n",
       "      <td>Second Owner</td>\n",
       "      <td>14.10</td>\n",
       "      <td>2179.0</td>\n",
       "      <td>148.0</td>\n",
       "      <td>7.0</td>\n",
       "      <td>Tata</td>\n",
       "    </tr>\n",
       "    <tr>\n",
       "      <th>3</th>\n",
       "      <td>Honda City 1.3 EXI</td>\n",
       "      <td>2004</td>\n",
       "      <td>50000</td>\n",
       "      <td>62000</td>\n",
       "      <td>Petrol</td>\n",
       "      <td>Individual</td>\n",
       "      <td>Manual</td>\n",
       "      <td>Second Owner</td>\n",
       "      <td>13.00</td>\n",
       "      <td>1343.0</td>\n",
       "      <td>90.0</td>\n",
       "      <td>5.0</td>\n",
       "      <td>Honda</td>\n",
       "    </tr>\n",
       "    <tr>\n",
       "      <th>4</th>\n",
       "      <td>Skoda Fabia 1.2 MPI Ambition</td>\n",
       "      <td>2011</td>\n",
       "      <td>200000</td>\n",
       "      <td>120000</td>\n",
       "      <td>Petrol</td>\n",
       "      <td>Individual</td>\n",
       "      <td>Manual</td>\n",
       "      <td>Second Owner</td>\n",
       "      <td>16.25</td>\n",
       "      <td>1198.0</td>\n",
       "      <td>73.9</td>\n",
       "      <td>5.0</td>\n",
       "      <td>Skoda</td>\n",
       "    </tr>\n",
       "  </tbody>\n",
       "</table>\n",
       "</div>"
      ],
      "text/plain": [
       "                           name  year  selling_price  km_driven    fuel  \\\n",
       "0        Fiat Punto 1.3 Emotion  2009         150000     153000  Diesel   \n",
       "1      Maruti Vitara Brezza VDi  2018         825000      35000  Diesel   \n",
       "2         Tata Safari Storme VX  2016         650000      60000  Diesel   \n",
       "3            Honda City 1.3 EXI  2004          50000      62000  Petrol   \n",
       "4  Skoda Fabia 1.2 MPI Ambition  2011         200000     120000  Petrol   \n",
       "\n",
       "  seller_type transmission         owner  mileage  engine  max_power  seats  \\\n",
       "0  Individual       Manual  Second Owner      NaN     NaN        NaN    NaN   \n",
       "1  Individual       Manual   First Owner    24.30  1248.0       88.5    5.0   \n",
       "2  Individual       Manual  Second Owner    14.10  2179.0      148.0    7.0   \n",
       "3  Individual       Manual  Second Owner    13.00  1343.0       90.0    5.0   \n",
       "4  Individual       Manual  Second Owner    16.25  1198.0       73.9    5.0   \n",
       "\n",
       "  car_company_name  \n",
       "0             Fiat  \n",
       "1           Maruti  \n",
       "2             Tata  \n",
       "3            Honda  \n",
       "4            Skoda  "
      ]
     },
     "execution_count": 3,
     "metadata": {},
     "output_type": "execute_result"
    }
   ],
   "source": [
    "df.head()"
   ]
  },
  {
   "cell_type": "code",
   "execution_count": 4,
   "id": "c3f31799-9e35-48e7-9099-1cb1feee5be2",
   "metadata": {},
   "outputs": [],
   "source": [
    "expectation_suite_name = \"my_expectations\""
   ]
  },
  {
   "cell_type": "code",
   "execution_count": 5,
   "id": "440c6736-2a24-4d98-afe0-9269e7136fe2",
   "metadata": {},
   "outputs": [
    {
     "data": {
      "text/plain": [
       "{\n",
       "  \"success\": true,\n",
       "  \"result\": {\n",
       "    \"element_count\": 8,\n",
       "    \"missing_count\": 0,\n",
       "    \"missing_percent\": 0.0,\n",
       "    \"unexpected_count\": 0,\n",
       "    \"unexpected_percent\": 0.0,\n",
       "    \"unexpected_percent_total\": 0.0,\n",
       "    \"unexpected_percent_nonmissing\": 0.0,\n",
       "    \"partial_unexpected_list\": []\n",
       "  },\n",
       "  \"meta\": {},\n",
       "  \"exception_info\": {\n",
       "    \"raised_exception\": false,\n",
       "    \"exception_traceback\": null,\n",
       "    \"exception_message\": null\n",
       "  }\n",
       "}"
      ]
     },
     "execution_count": 5,
     "metadata": {},
     "output_type": "execute_result"
    }
   ],
   "source": [
    "ge_dataset.expect_column_values_to_be_in_set(column='fuel', value_set=['Petrol', 'Diesel', 'CNG', 'Electric'])"
   ]
  },
  {
   "cell_type": "code",
   "execution_count": 6,
   "id": "8629e938-eac8-495c-acc9-be4d97971677",
   "metadata": {},
   "outputs": [
    {
     "data": {
      "text/plain": [
       "{\n",
       "  \"success\": false,\n",
       "  \"result\": {\n",
       "    \"element_count\": 8,\n",
       "    \"missing_count\": 0,\n",
       "    \"missing_percent\": 0.0,\n",
       "    \"unexpected_count\": 5,\n",
       "    \"unexpected_percent\": 62.5,\n",
       "    \"unexpected_percent_total\": 62.5,\n",
       "    \"unexpected_percent_nonmissing\": 62.5,\n",
       "    \"partial_unexpected_list\": [\n",
       "      \"Fiat Punto 1.3 Emotion\",\n",
       "      \"Honda City 1.3 EXI\",\n",
       "      \"Skoda Fabia 1.2 MPI Ambition\",\n",
       "      \"Hyundai i20 2015-2017 Sportz 1.4 CRDi\",\n",
       "      \"Hyundai i20 1.4 Sportz\"\n",
       "    ]\n",
       "  },\n",
       "  \"meta\": {},\n",
       "  \"exception_info\": {\n",
       "    \"raised_exception\": false,\n",
       "    \"exception_traceback\": null,\n",
       "    \"exception_message\": null\n",
       "  }\n",
       "}"
      ]
     },
     "execution_count": 6,
     "metadata": {},
     "output_type": "execute_result"
    }
   ],
   "source": [
    "ge_dataset.expect_column_values_to_match_regex(column='name', regex=r'^[a-zA-Z0-9\\s]+$')"
   ]
  },
  {
   "cell_type": "code",
   "execution_count": 7,
   "id": "9908e32c-4960-44a1-a0c7-883c473725a8",
   "metadata": {},
   "outputs": [
    {
     "data": {
      "text/plain": [
       "{\n",
       "  \"success\": true,\n",
       "  \"result\": {\n",
       "    \"element_count\": 8,\n",
       "    \"missing_count\": 0,\n",
       "    \"missing_percent\": 0.0,\n",
       "    \"unexpected_count\": 0,\n",
       "    \"unexpected_percent\": 0.0,\n",
       "    \"unexpected_percent_total\": 0.0,\n",
       "    \"unexpected_percent_nonmissing\": 0.0,\n",
       "    \"partial_unexpected_list\": []\n",
       "  },\n",
       "  \"meta\": {},\n",
       "  \"exception_info\": {\n",
       "    \"raised_exception\": false,\n",
       "    \"exception_traceback\": null,\n",
       "    \"exception_message\": null\n",
       "  }\n",
       "}"
      ]
     },
     "execution_count": 7,
     "metadata": {},
     "output_type": "execute_result"
    }
   ],
   "source": [
    "ge_dataset.expect_column_values_to_be_between(column='year', min_value=1900, max_value=2024)"
   ]
  },
  {
   "cell_type": "code",
   "execution_count": 8,
   "id": "480e353b-1825-47cb-bce9-a222e418bd28",
   "metadata": {},
   "outputs": [
    {
     "data": {
      "text/plain": [
       "{\n",
       "  \"success\": true,\n",
       "  \"result\": {\n",
       "    \"element_count\": 8,\n",
       "    \"missing_count\": 0,\n",
       "    \"missing_percent\": 0.0,\n",
       "    \"unexpected_count\": 0,\n",
       "    \"unexpected_percent\": 0.0,\n",
       "    \"unexpected_percent_total\": 0.0,\n",
       "    \"unexpected_percent_nonmissing\": 0.0,\n",
       "    \"partial_unexpected_list\": []\n",
       "  },\n",
       "  \"meta\": {},\n",
       "  \"exception_info\": {\n",
       "    \"raised_exception\": false,\n",
       "    \"exception_traceback\": null,\n",
       "    \"exception_message\": null\n",
       "  }\n",
       "}"
      ]
     },
     "execution_count": 8,
     "metadata": {},
     "output_type": "execute_result"
    }
   ],
   "source": [
    "ge_dataset.expect_column_values_to_be_between(column='selling_price', min_value=0, max_value=1e9)"
   ]
  },
  {
   "cell_type": "code",
   "execution_count": 9,
   "id": "fb341329-ee98-4aa4-aed0-f79843540288",
   "metadata": {},
   "outputs": [
    {
     "data": {
      "text/plain": [
       "{\n",
       "  \"success\": true,\n",
       "  \"result\": {\n",
       "    \"element_count\": 8,\n",
       "    \"missing_count\": 0,\n",
       "    \"missing_percent\": 0.0,\n",
       "    \"unexpected_count\": 0,\n",
       "    \"unexpected_percent\": 0.0,\n",
       "    \"unexpected_percent_total\": 0.0,\n",
       "    \"unexpected_percent_nonmissing\": 0.0,\n",
       "    \"partial_unexpected_list\": []\n",
       "  },\n",
       "  \"meta\": {},\n",
       "  \"exception_info\": {\n",
       "    \"raised_exception\": false,\n",
       "    \"exception_traceback\": null,\n",
       "    \"exception_message\": null\n",
       "  }\n",
       "}"
      ]
     },
     "execution_count": 9,
     "metadata": {},
     "output_type": "execute_result"
    }
   ],
   "source": [
    "ge_dataset.expect_column_values_to_be_between(column='km_driven', min_value=0, max_value=1e6)"
   ]
  },
  {
   "cell_type": "code",
   "execution_count": 10,
   "id": "360c43be-28ff-463a-8b4f-85264f580f08",
   "metadata": {},
   "outputs": [
    {
     "data": {
      "text/plain": [
       "{\n",
       "  \"success\": true,\n",
       "  \"result\": {\n",
       "    \"element_count\": 8,\n",
       "    \"missing_count\": 0,\n",
       "    \"missing_percent\": 0.0,\n",
       "    \"unexpected_count\": 0,\n",
       "    \"unexpected_percent\": 0.0,\n",
       "    \"unexpected_percent_total\": 0.0,\n",
       "    \"unexpected_percent_nonmissing\": 0.0,\n",
       "    \"partial_unexpected_list\": []\n",
       "  },\n",
       "  \"meta\": {},\n",
       "  \"exception_info\": {\n",
       "    \"raised_exception\": false,\n",
       "    \"exception_traceback\": null,\n",
       "    \"exception_message\": null\n",
       "  }\n",
       "}"
      ]
     },
     "execution_count": 10,
     "metadata": {},
     "output_type": "execute_result"
    }
   ],
   "source": [
    "ge_dataset.expect_column_values_to_be_in_set(column='seller_type', value_set=['Individual', 'Dealer'])"
   ]
  },
  {
   "cell_type": "code",
   "execution_count": 11,
   "id": "af0199ba-ea51-4f46-a547-772df5c5b3e7",
   "metadata": {},
   "outputs": [
    {
     "data": {
      "text/plain": [
       "{\n",
       "  \"success\": true,\n",
       "  \"result\": {\n",
       "    \"element_count\": 8,\n",
       "    \"missing_count\": 0,\n",
       "    \"missing_percent\": 0.0,\n",
       "    \"unexpected_count\": 0,\n",
       "    \"unexpected_percent\": 0.0,\n",
       "    \"unexpected_percent_total\": 0.0,\n",
       "    \"unexpected_percent_nonmissing\": 0.0,\n",
       "    \"partial_unexpected_list\": []\n",
       "  },\n",
       "  \"meta\": {},\n",
       "  \"exception_info\": {\n",
       "    \"raised_exception\": false,\n",
       "    \"exception_traceback\": null,\n",
       "    \"exception_message\": null\n",
       "  }\n",
       "}"
      ]
     },
     "execution_count": 11,
     "metadata": {},
     "output_type": "execute_result"
    }
   ],
   "source": [
    "ge_dataset.expect_column_values_to_be_in_set(column='transmission', value_set=['Manual', 'Automatic'])"
   ]
  },
  {
   "cell_type": "code",
   "execution_count": 12,
   "id": "5b79b029-e510-4bf0-9ad0-4bf229ea6843",
   "metadata": {},
   "outputs": [
    {
     "data": {
      "text/plain": [
       "{\n",
       "  \"success\": true,\n",
       "  \"result\": {\n",
       "    \"element_count\": 8,\n",
       "    \"missing_count\": 0,\n",
       "    \"missing_percent\": 0.0,\n",
       "    \"unexpected_count\": 0,\n",
       "    \"unexpected_percent\": 0.0,\n",
       "    \"unexpected_percent_total\": 0.0,\n",
       "    \"unexpected_percent_nonmissing\": 0.0,\n",
       "    \"partial_unexpected_list\": []\n",
       "  },\n",
       "  \"meta\": {},\n",
       "  \"exception_info\": {\n",
       "    \"raised_exception\": false,\n",
       "    \"exception_traceback\": null,\n",
       "    \"exception_message\": null\n",
       "  }\n",
       "}"
      ]
     },
     "execution_count": 12,
     "metadata": {},
     "output_type": "execute_result"
    }
   ],
   "source": [
    "ge_dataset.expect_column_values_to_match_regex(column='owner', regex=r'^[a-zA-Z\\s]+$')"
   ]
  },
  {
   "cell_type": "code",
   "execution_count": 13,
   "id": "751b7130-6b10-41c1-82a4-99d221d8f2a5",
   "metadata": {},
   "outputs": [
    {
     "data": {
      "text/plain": [
       "{\n",
       "  \"success\": true,\n",
       "  \"result\": {\n",
       "    \"element_count\": 8,\n",
       "    \"missing_count\": 1,\n",
       "    \"missing_percent\": 12.5,\n",
       "    \"unexpected_count\": 0,\n",
       "    \"unexpected_percent\": 0.0,\n",
       "    \"unexpected_percent_total\": 0.0,\n",
       "    \"unexpected_percent_nonmissing\": 0.0,\n",
       "    \"partial_unexpected_list\": []\n",
       "  },\n",
       "  \"meta\": {},\n",
       "  \"exception_info\": {\n",
       "    \"raised_exception\": false,\n",
       "    \"exception_traceback\": null,\n",
       "    \"exception_message\": null\n",
       "  }\n",
       "}"
      ]
     },
     "execution_count": 13,
     "metadata": {},
     "output_type": "execute_result"
    }
   ],
   "source": [
    "ge_dataset.expect_column_values_to_be_between(column='mileage', min_value=0, max_value=50)"
   ]
  },
  {
   "cell_type": "code",
   "execution_count": 14,
   "id": "1d795dc9-c94c-49b1-b653-0c47f3db2d89",
   "metadata": {},
   "outputs": [
    {
     "data": {
      "text/plain": [
       "{\n",
       "  \"success\": true,\n",
       "  \"result\": {\n",
       "    \"element_count\": 8,\n",
       "    \"missing_count\": 1,\n",
       "    \"missing_percent\": 12.5,\n",
       "    \"unexpected_count\": 0,\n",
       "    \"unexpected_percent\": 0.0,\n",
       "    \"unexpected_percent_total\": 0.0,\n",
       "    \"unexpected_percent_nonmissing\": 0.0,\n",
       "    \"partial_unexpected_list\": []\n",
       "  },\n",
       "  \"meta\": {},\n",
       "  \"exception_info\": {\n",
       "    \"raised_exception\": false,\n",
       "    \"exception_traceback\": null,\n",
       "    \"exception_message\": null\n",
       "  }\n",
       "}"
      ]
     },
     "execution_count": 14,
     "metadata": {},
     "output_type": "execute_result"
    }
   ],
   "source": [
    "ge_dataset.expect_column_values_to_be_between(column='engine', min_value=0, max_value=10000)"
   ]
  },
  {
   "cell_type": "code",
   "execution_count": 15,
   "id": "fe9dcbb2-3105-4df6-a6d3-3a5c9fb44bbc",
   "metadata": {},
   "outputs": [
    {
     "data": {
      "text/plain": [
       "{\n",
       "  \"success\": true,\n",
       "  \"result\": {\n",
       "    \"element_count\": 8,\n",
       "    \"missing_count\": 1,\n",
       "    \"missing_percent\": 12.5,\n",
       "    \"unexpected_count\": 0,\n",
       "    \"unexpected_percent\": 0.0,\n",
       "    \"unexpected_percent_total\": 0.0,\n",
       "    \"unexpected_percent_nonmissing\": 0.0,\n",
       "    \"partial_unexpected_list\": []\n",
       "  },\n",
       "  \"meta\": {},\n",
       "  \"exception_info\": {\n",
       "    \"raised_exception\": false,\n",
       "    \"exception_traceback\": null,\n",
       "    \"exception_message\": null\n",
       "  }\n",
       "}"
      ]
     },
     "execution_count": 15,
     "metadata": {},
     "output_type": "execute_result"
    }
   ],
   "source": [
    "ge_dataset.expect_column_values_to_be_between(column='max_power', min_value=0, max_value=1000)"
   ]
  },
  {
   "cell_type": "code",
   "execution_count": 16,
   "id": "f4db050b-3afd-4b93-aaab-d55dc38b5ced",
   "metadata": {},
   "outputs": [
    {
     "data": {
      "text/plain": [
       "{\n",
       "  \"success\": true,\n",
       "  \"result\": {\n",
       "    \"element_count\": 8,\n",
       "    \"missing_count\": 1,\n",
       "    \"missing_percent\": 12.5,\n",
       "    \"unexpected_count\": 0,\n",
       "    \"unexpected_percent\": 0.0,\n",
       "    \"unexpected_percent_total\": 0.0,\n",
       "    \"unexpected_percent_nonmissing\": 0.0,\n",
       "    \"partial_unexpected_list\": []\n",
       "  },\n",
       "  \"meta\": {},\n",
       "  \"exception_info\": {\n",
       "    \"raised_exception\": false,\n",
       "    \"exception_traceback\": null,\n",
       "    \"exception_message\": null\n",
       "  }\n",
       "}"
      ]
     },
     "execution_count": 16,
     "metadata": {},
     "output_type": "execute_result"
    }
   ],
   "source": [
    "ge_dataset.expect_column_values_to_be_between(column='seats', min_value=1, max_value=10)"
   ]
  },
  {
   "cell_type": "code",
   "execution_count": 17,
   "id": "a53426ca-25e6-431b-b792-525d1c1be424",
   "metadata": {},
   "outputs": [
    {
     "data": {
      "text/plain": [
       "{\n",
       "  \"success\": true,\n",
       "  \"result\": {\n",
       "    \"element_count\": 8,\n",
       "    \"missing_count\": 0,\n",
       "    \"missing_percent\": 0.0,\n",
       "    \"unexpected_count\": 0,\n",
       "    \"unexpected_percent\": 0.0,\n",
       "    \"unexpected_percent_total\": 0.0,\n",
       "    \"unexpected_percent_nonmissing\": 0.0,\n",
       "    \"partial_unexpected_list\": []\n",
       "  },\n",
       "  \"meta\": {},\n",
       "  \"exception_info\": {\n",
       "    \"raised_exception\": false,\n",
       "    \"exception_traceback\": null,\n",
       "    \"exception_message\": null\n",
       "  }\n",
       "}"
      ]
     },
     "execution_count": 17,
     "metadata": {},
     "output_type": "execute_result"
    }
   ],
   "source": [
    "ge_dataset.expect_column_values_to_match_regex(column='car_company_name', regex=r'^[a-zA-Z\\s]+$')"
   ]
  },
  {
   "cell_type": "code",
   "execution_count": 18,
   "id": "56bd1fee-ad20-4032-80ca-439273ad88b1",
   "metadata": {},
   "outputs": [],
   "source": [
    "# Save the expectation suite to the specified folder\n",
    "expectation_suite_path = \"/home/sachin/DSP/car_price_prediction/gx/\" + expectation_suite_name + \".json\"\n",
    "ge_dataset.save_expectation_suite(expectation_suite_name)"
   ]
  },
  {
   "cell_type": "code",
   "execution_count": 19,
   "id": "4fbd8817-ce6a-495e-97d8-c84dc3c96a80",
   "metadata": {},
   "outputs": [],
   "source": [
    "suite_json = ge_dataset.get_expectation_suite(expectation_suite_name).to_json_dict()\n",
    "with open(expectation_suite_path, \"w\") as f:\n",
    "    json.dump(suite_json, f)"
   ]
  },
  {
   "cell_type": "code",
   "execution_count": 20,
   "id": "48be7264-2b95-4643-a043-e060160e293f",
   "metadata": {},
   "outputs": [
    {
     "name": "stdout",
     "output_type": "stream",
     "text": [
      "True\n"
     ]
    }
   ],
   "source": [
    "# Review the results\n",
    "results = ge_dataset.validate(expectation_suite_name)\n",
    "print(results['success'])"
   ]
  },
  {
   "cell_type": "code",
   "execution_count": 21,
   "id": "9739b75b-5958-4aba-bb15-2e18794e391f",
   "metadata": {},
   "outputs": [
    {
     "name": "stdout",
     "output_type": "stream",
     "text": [
      "No data quality issues found. Stored in good_data folder.\n"
     ]
    }
   ],
   "source": [
    "if results['success']:\n",
    "    # Store file in good_data folder\n",
    "    df.to_csv('/home/sachin/DSP/airflow-spike-master/output_data/good_data/data_chunk_609.csv', index=False)\n",
    "    print(\"No data quality issues found. Stored in good_data folder.\")\n",
    "else:\n",
    "    # Store file in bad_data folder\n",
    "    df.to_csv('/home/sachin/DSP/airflow-spike-master/output_data/bad_data/data_chunk_609.csv', index=False)\n",
    "    print(\"Data quality issues found. Stored in bad_data folder.\")\n"
   ]
  },
  {
   "cell_type": "code",
   "execution_count": null,
   "id": "7d721796-2bf0-4065-8029-7de6720fed75",
   "metadata": {},
   "outputs": [],
   "source": []
  },
  {
   "cell_type": "code",
   "execution_count": null,
   "id": "f783aff2-65ae-4ee1-9122-d18463738381",
   "metadata": {},
   "outputs": [],
   "source": []
  },
  {
   "cell_type": "code",
   "execution_count": null,
   "id": "bc51e48a-c0ad-40a3-9dda-be2a4a1cdc03",
   "metadata": {},
   "outputs": [],
   "source": []
  }
 ],
 "metadata": {
  "kernelspec": {
   "display_name": "Python 3 (ipykernel)",
   "language": "python",
   "name": "python3"
  },
  "language_info": {
   "codemirror_mode": {
    "name": "ipython",
    "version": 3
   },
   "file_extension": ".py",
   "mimetype": "text/x-python",
   "name": "python",
   "nbconvert_exporter": "python",
   "pygments_lexer": "ipython3",
   "version": "3.9.19"
  }
 },
 "nbformat": 4,
 "nbformat_minor": 5
}
