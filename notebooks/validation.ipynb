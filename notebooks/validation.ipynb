{
 "cells": [
  {
   "cell_type": "code",
   "execution_count": 41,
   "id": "ffd4f74f-e3c8-4af3-b71c-e31a289d2198",
   "metadata": {},
   "outputs": [],
   "source": [
    "import pandas as pd\n",
    "from great_expectations import dataset\n",
    "import json"
   ]
  },
  {
   "cell_type": "code",
   "execution_count": 76,
   "id": "f357d766-4e1f-4853-8836-f56d3a0cbf7f",
   "metadata": {},
   "outputs": [],
   "source": [
    "\n",
    "\n",
    "from great_expectations.data_context import DataContext\n",
    "import great_expectations as ge\n",
    "import pandas as pd\n",
    "\n",
    "# Set the path to your Great Expectations project directory\n",
    "ge_project_directory = '/home/sachin/DSP/car_price_prediction/gx'\n",
    "context = DataContext(context_root_dir=ge_project_directory)\n",
    "\n",
    "# Load the dataset\n",
    "df = pd.read_csv('/home/sachin/DSP/airflow-spike-master/input_data/raw-data/data_chunk_608.csv')\n",
    "\n",
    "ge_df = ge.dataset.PandasDataset(df)"
   ]
  },
  {
   "cell_type": "code",
   "execution_count": 77,
   "id": "440c6736-2a24-4d98-afe0-9269e7136fe2",
   "metadata": {},
   "outputs": [
    {
     "data": {
      "text/plain": [
       "{\n",
       "  \"success\": true,\n",
       "  \"result\": {\n",
       "    \"element_count\": 8,\n",
       "    \"missing_count\": 0,\n",
       "    \"missing_percent\": 0.0,\n",
       "    \"unexpected_count\": 0,\n",
       "    \"unexpected_percent\": 0.0,\n",
       "    \"unexpected_percent_total\": 0.0,\n",
       "    \"unexpected_percent_nonmissing\": 0.0,\n",
       "    \"partial_unexpected_list\": []\n",
       "  },\n",
       "  \"meta\": {},\n",
       "  \"exception_info\": {\n",
       "    \"raised_exception\": false,\n",
       "    \"exception_traceback\": null,\n",
       "    \"exception_message\": null\n",
       "  }\n",
       "}"
      ]
     },
     "execution_count": 77,
     "metadata": {},
     "output_type": "execute_result"
    }
   ],
   "source": [
    "ge_dataset.expect_column_values_to_be_in_set(column='fuel', value_set=['Petrol', 'Diesel', 'CNG', 'Electric'])"
   ]
  },
  {
   "cell_type": "code",
   "execution_count": 78,
   "id": "8629e938-eac8-495c-acc9-be4d97971677",
   "metadata": {},
   "outputs": [
    {
     "data": {
      "text/plain": [
       "{\n",
       "  \"success\": false,\n",
       "  \"result\": {\n",
       "    \"element_count\": 8,\n",
       "    \"missing_count\": 0,\n",
       "    \"missing_percent\": 0.0,\n",
       "    \"unexpected_count\": 4,\n",
       "    \"unexpected_percent\": 50.0,\n",
       "    \"unexpected_percent_total\": 50.0,\n",
       "    \"unexpected_percent_nonmissing\": 50.0,\n",
       "    \"partial_unexpected_list\": [\n",
       "      \"Hyundai i10 Magna 1.1L\",\n",
       "      \"Ford EcoSport 1.5 Diesel Trend Plus BSIV\",\n",
       "      \"Tata Manza Aura (ABS) Quadrajet BS IV\",\n",
       "      \"Hyundai i20 1.2 Asta Option\"\n",
       "    ]\n",
       "  },\n",
       "  \"meta\": {},\n",
       "  \"exception_info\": {\n",
       "    \"raised_exception\": false,\n",
       "    \"exception_traceback\": null,\n",
       "    \"exception_message\": null\n",
       "  }\n",
       "}"
      ]
     },
     "execution_count": 78,
     "metadata": {},
     "output_type": "execute_result"
    }
   ],
   "source": [
    "ge_dataset.expect_column_values_to_match_regex(column='name', regex=r'^[a-zA-Z0-9\\s]+$')"
   ]
  },
  {
   "cell_type": "code",
   "execution_count": 79,
   "id": "9908e32c-4960-44a1-a0c7-883c473725a8",
   "metadata": {},
   "outputs": [
    {
     "data": {
      "text/plain": [
       "{\n",
       "  \"success\": true,\n",
       "  \"result\": {\n",
       "    \"element_count\": 8,\n",
       "    \"missing_count\": 0,\n",
       "    \"missing_percent\": 0.0,\n",
       "    \"unexpected_count\": 0,\n",
       "    \"unexpected_percent\": 0.0,\n",
       "    \"unexpected_percent_total\": 0.0,\n",
       "    \"unexpected_percent_nonmissing\": 0.0,\n",
       "    \"partial_unexpected_list\": []\n",
       "  },\n",
       "  \"meta\": {},\n",
       "  \"exception_info\": {\n",
       "    \"raised_exception\": false,\n",
       "    \"exception_traceback\": null,\n",
       "    \"exception_message\": null\n",
       "  }\n",
       "}"
      ]
     },
     "execution_count": 79,
     "metadata": {},
     "output_type": "execute_result"
    }
   ],
   "source": [
    "ge_dataset.expect_column_values_to_be_between(column='year', min_value=1900, max_value=2024)"
   ]
  },
  {
   "cell_type": "code",
   "execution_count": 80,
   "id": "480e353b-1825-47cb-bce9-a222e418bd28",
   "metadata": {},
   "outputs": [
    {
     "data": {
      "text/plain": [
       "{\n",
       "  \"success\": true,\n",
       "  \"result\": {\n",
       "    \"element_count\": 8,\n",
       "    \"missing_count\": 0,\n",
       "    \"missing_percent\": 0.0,\n",
       "    \"unexpected_count\": 0,\n",
       "    \"unexpected_percent\": 0.0,\n",
       "    \"unexpected_percent_total\": 0.0,\n",
       "    \"unexpected_percent_nonmissing\": 0.0,\n",
       "    \"partial_unexpected_list\": []\n",
       "  },\n",
       "  \"meta\": {},\n",
       "  \"exception_info\": {\n",
       "    \"raised_exception\": false,\n",
       "    \"exception_traceback\": null,\n",
       "    \"exception_message\": null\n",
       "  }\n",
       "}"
      ]
     },
     "execution_count": 80,
     "metadata": {},
     "output_type": "execute_result"
    }
   ],
   "source": [
    "ge_dataset.expect_column_values_to_be_between(column='selling_price', min_value=0, max_value=1e9)"
   ]
  },
  {
   "cell_type": "code",
   "execution_count": 81,
   "id": "fb341329-ee98-4aa4-aed0-f79843540288",
   "metadata": {},
   "outputs": [
    {
     "data": {
      "text/plain": [
       "{\n",
       "  \"success\": true,\n",
       "  \"result\": {\n",
       "    \"element_count\": 8,\n",
       "    \"missing_count\": 0,\n",
       "    \"missing_percent\": 0.0,\n",
       "    \"unexpected_count\": 0,\n",
       "    \"unexpected_percent\": 0.0,\n",
       "    \"unexpected_percent_total\": 0.0,\n",
       "    \"unexpected_percent_nonmissing\": 0.0,\n",
       "    \"partial_unexpected_list\": []\n",
       "  },\n",
       "  \"meta\": {},\n",
       "  \"exception_info\": {\n",
       "    \"raised_exception\": false,\n",
       "    \"exception_traceback\": null,\n",
       "    \"exception_message\": null\n",
       "  }\n",
       "}"
      ]
     },
     "execution_count": 81,
     "metadata": {},
     "output_type": "execute_result"
    }
   ],
   "source": [
    "ge_dataset.expect_column_values_to_be_between(column='km_driven', min_value=0, max_value=1e6)"
   ]
  },
  {
   "cell_type": "code",
   "execution_count": 82,
   "id": "360c43be-28ff-463a-8b4f-85264f580f08",
   "metadata": {},
   "outputs": [
    {
     "data": {
      "text/plain": [
       "{\n",
       "  \"success\": true,\n",
       "  \"result\": {\n",
       "    \"element_count\": 8,\n",
       "    \"missing_count\": 0,\n",
       "    \"missing_percent\": 0.0,\n",
       "    \"unexpected_count\": 0,\n",
       "    \"unexpected_percent\": 0.0,\n",
       "    \"unexpected_percent_total\": 0.0,\n",
       "    \"unexpected_percent_nonmissing\": 0.0,\n",
       "    \"partial_unexpected_list\": []\n",
       "  },\n",
       "  \"meta\": {},\n",
       "  \"exception_info\": {\n",
       "    \"raised_exception\": false,\n",
       "    \"exception_traceback\": null,\n",
       "    \"exception_message\": null\n",
       "  }\n",
       "}"
      ]
     },
     "execution_count": 82,
     "metadata": {},
     "output_type": "execute_result"
    }
   ],
   "source": [
    "ge_dataset.expect_column_values_to_be_in_set(column='seller_type', value_set=['Individual', 'Dealer'])"
   ]
  },
  {
   "cell_type": "code",
   "execution_count": 83,
   "id": "af0199ba-ea51-4f46-a547-772df5c5b3e7",
   "metadata": {},
   "outputs": [
    {
     "data": {
      "text/plain": [
       "{\n",
       "  \"success\": true,\n",
       "  \"result\": {\n",
       "    \"element_count\": 8,\n",
       "    \"missing_count\": 0,\n",
       "    \"missing_percent\": 0.0,\n",
       "    \"unexpected_count\": 0,\n",
       "    \"unexpected_percent\": 0.0,\n",
       "    \"unexpected_percent_total\": 0.0,\n",
       "    \"unexpected_percent_nonmissing\": 0.0,\n",
       "    \"partial_unexpected_list\": []\n",
       "  },\n",
       "  \"meta\": {},\n",
       "  \"exception_info\": {\n",
       "    \"raised_exception\": false,\n",
       "    \"exception_traceback\": null,\n",
       "    \"exception_message\": null\n",
       "  }\n",
       "}"
      ]
     },
     "execution_count": 83,
     "metadata": {},
     "output_type": "execute_result"
    }
   ],
   "source": [
    "ge_dataset.expect_column_values_to_be_in_set(column='transmission', value_set=['Manual', 'Automatic'])"
   ]
  },
  {
   "cell_type": "code",
   "execution_count": 84,
   "id": "5b79b029-e510-4bf0-9ad0-4bf229ea6843",
   "metadata": {},
   "outputs": [
    {
     "data": {
      "text/plain": [
       "{\n",
       "  \"success\": true,\n",
       "  \"result\": {\n",
       "    \"element_count\": 8,\n",
       "    \"missing_count\": 0,\n",
       "    \"missing_percent\": 0.0,\n",
       "    \"unexpected_count\": 0,\n",
       "    \"unexpected_percent\": 0.0,\n",
       "    \"unexpected_percent_total\": 0.0,\n",
       "    \"unexpected_percent_nonmissing\": 0.0,\n",
       "    \"partial_unexpected_list\": []\n",
       "  },\n",
       "  \"meta\": {},\n",
       "  \"exception_info\": {\n",
       "    \"raised_exception\": false,\n",
       "    \"exception_traceback\": null,\n",
       "    \"exception_message\": null\n",
       "  }\n",
       "}"
      ]
     },
     "execution_count": 84,
     "metadata": {},
     "output_type": "execute_result"
    }
   ],
   "source": [
    "ge_dataset.expect_column_values_to_match_regex(column='owner', regex=r'^[a-zA-Z\\s]+$')"
   ]
  },
  {
   "cell_type": "code",
   "execution_count": 85,
   "id": "751b7130-6b10-41c1-82a4-99d221d8f2a5",
   "metadata": {},
   "outputs": [
    {
     "data": {
      "text/plain": [
       "{\n",
       "  \"success\": true,\n",
       "  \"result\": {\n",
       "    \"element_count\": 8,\n",
       "    \"missing_count\": 0,\n",
       "    \"missing_percent\": 0.0,\n",
       "    \"unexpected_count\": 0,\n",
       "    \"unexpected_percent\": 0.0,\n",
       "    \"unexpected_percent_total\": 0.0,\n",
       "    \"unexpected_percent_nonmissing\": 0.0,\n",
       "    \"partial_unexpected_list\": []\n",
       "  },\n",
       "  \"meta\": {},\n",
       "  \"exception_info\": {\n",
       "    \"raised_exception\": false,\n",
       "    \"exception_traceback\": null,\n",
       "    \"exception_message\": null\n",
       "  }\n",
       "}"
      ]
     },
     "execution_count": 85,
     "metadata": {},
     "output_type": "execute_result"
    }
   ],
   "source": [
    "ge_dataset.expect_column_values_to_be_between(column='mileage', min_value=0, max_value=50)"
   ]
  },
  {
   "cell_type": "code",
   "execution_count": 86,
   "id": "1d795dc9-c94c-49b1-b653-0c47f3db2d89",
   "metadata": {},
   "outputs": [
    {
     "data": {
      "text/plain": [
       "{\n",
       "  \"success\": true,\n",
       "  \"result\": {\n",
       "    \"element_count\": 8,\n",
       "    \"missing_count\": 0,\n",
       "    \"missing_percent\": 0.0,\n",
       "    \"unexpected_count\": 0,\n",
       "    \"unexpected_percent\": 0.0,\n",
       "    \"unexpected_percent_total\": 0.0,\n",
       "    \"unexpected_percent_nonmissing\": 0.0,\n",
       "    \"partial_unexpected_list\": []\n",
       "  },\n",
       "  \"meta\": {},\n",
       "  \"exception_info\": {\n",
       "    \"raised_exception\": false,\n",
       "    \"exception_traceback\": null,\n",
       "    \"exception_message\": null\n",
       "  }\n",
       "}"
      ]
     },
     "execution_count": 86,
     "metadata": {},
     "output_type": "execute_result"
    }
   ],
   "source": [
    "ge_dataset.expect_column_values_to_be_between(column='engine', min_value=0, max_value=10000)"
   ]
  },
  {
   "cell_type": "code",
   "execution_count": 87,
   "id": "fe9dcbb2-3105-4df6-a6d3-3a5c9fb44bbc",
   "metadata": {},
   "outputs": [
    {
     "data": {
      "text/plain": [
       "{\n",
       "  \"success\": true,\n",
       "  \"result\": {\n",
       "    \"element_count\": 8,\n",
       "    \"missing_count\": 0,\n",
       "    \"missing_percent\": 0.0,\n",
       "    \"unexpected_count\": 0,\n",
       "    \"unexpected_percent\": 0.0,\n",
       "    \"unexpected_percent_total\": 0.0,\n",
       "    \"unexpected_percent_nonmissing\": 0.0,\n",
       "    \"partial_unexpected_list\": []\n",
       "  },\n",
       "  \"meta\": {},\n",
       "  \"exception_info\": {\n",
       "    \"raised_exception\": false,\n",
       "    \"exception_traceback\": null,\n",
       "    \"exception_message\": null\n",
       "  }\n",
       "}"
      ]
     },
     "execution_count": 87,
     "metadata": {},
     "output_type": "execute_result"
    }
   ],
   "source": [
    "ge_dataset.expect_column_values_to_be_between(column='max_power', min_value=0, max_value=1000)"
   ]
  },
  {
   "cell_type": "code",
   "execution_count": 88,
   "id": "f4db050b-3afd-4b93-aaab-d55dc38b5ced",
   "metadata": {},
   "outputs": [
    {
     "data": {
      "text/plain": [
       "{\n",
       "  \"success\": true,\n",
       "  \"result\": {\n",
       "    \"element_count\": 8,\n",
       "    \"missing_count\": 0,\n",
       "    \"missing_percent\": 0.0,\n",
       "    \"unexpected_count\": 0,\n",
       "    \"unexpected_percent\": 0.0,\n",
       "    \"unexpected_percent_total\": 0.0,\n",
       "    \"unexpected_percent_nonmissing\": 0.0,\n",
       "    \"partial_unexpected_list\": []\n",
       "  },\n",
       "  \"meta\": {},\n",
       "  \"exception_info\": {\n",
       "    \"raised_exception\": false,\n",
       "    \"exception_traceback\": null,\n",
       "    \"exception_message\": null\n",
       "  }\n",
       "}"
      ]
     },
     "execution_count": 88,
     "metadata": {},
     "output_type": "execute_result"
    }
   ],
   "source": [
    "ge_dataset.expect_column_values_to_be_between(column='seats', min_value=1, max_value=10)"
   ]
  },
  {
   "cell_type": "code",
   "execution_count": 89,
   "id": "a53426ca-25e6-431b-b792-525d1c1be424",
   "metadata": {},
   "outputs": [
    {
     "data": {
      "text/plain": [
       "{\n",
       "  \"success\": true,\n",
       "  \"result\": {\n",
       "    \"element_count\": 8,\n",
       "    \"missing_count\": 0,\n",
       "    \"missing_percent\": 0.0,\n",
       "    \"unexpected_count\": 0,\n",
       "    \"unexpected_percent\": 0.0,\n",
       "    \"unexpected_percent_total\": 0.0,\n",
       "    \"unexpected_percent_nonmissing\": 0.0,\n",
       "    \"partial_unexpected_list\": []\n",
       "  },\n",
       "  \"meta\": {},\n",
       "  \"exception_info\": {\n",
       "    \"raised_exception\": false,\n",
       "    \"exception_traceback\": null,\n",
       "    \"exception_message\": null\n",
       "  }\n",
       "}"
      ]
     },
     "execution_count": 89,
     "metadata": {},
     "output_type": "execute_result"
    }
   ],
   "source": [
    "ge_dataset.expect_column_values_to_match_regex(column='car_company_name', regex=r'^[a-zA-Z\\s]+$')"
   ]
  },
  {
   "cell_type": "code",
   "execution_count": 91,
   "id": "c30eedf5-c6fa-47b0-b2d2-f87ce3631278",
   "metadata": {},
   "outputs": [
    {
     "data": {
      "text/plain": [
       "'/home/sachin/DSP/car_price_prediction/gx/expectations/my_ex.json'"
      ]
     },
     "execution_count": 91,
     "metadata": {},
     "output_type": "execute_result"
    }
   ],
   "source": [
    "\n",
    "expectation_suite = ge_dataset.get_expectation_suite()\n",
    "\n",
    "# Name your expectation suite\n",
    "expectation_suite_name = \"my_ex\"\n",
    "\n",
    "# Use the DataContext to save the expectation suite\n",
    "context.save_expectation_suite(expectation_suite, expectation_suite_name)\n"
   ]
  },
  {
   "cell_type": "code",
   "execution_count": 39,
   "id": "56bd1fee-ad20-4032-80ca-439273ad88b1",
   "metadata": {},
   "outputs": [],
   "source": [
    "# Save the expectation suite to the specified folder\n",
    "#expectation_suite_path = \"/home/sachin/DSP/car_price_prediction/gx/\" + expectation_suite_name\n",
    "ge_dataset.save_expectation_suite(expectation_suite_name)"
   ]
  },
  {
   "cell_type": "code",
   "execution_count": 19,
   "id": "4fbd8817-ce6a-495e-97d8-c84dc3c96a80",
   "metadata": {},
   "outputs": [],
   "source": [
    "suite_json = ge_dataset.get_expectation_suite(expectation_suite_name).to_json_dict()\n",
    "with open(expectation_suite_path, \"w\") as f:\n",
    "    json.dump(suite_json, f)"
   ]
  },
  {
   "cell_type": "code",
   "execution_count": 20,
   "id": "48be7264-2b95-4643-a043-e060160e293f",
   "metadata": {},
   "outputs": [
    {
     "name": "stdout",
     "output_type": "stream",
     "text": [
      "True\n"
     ]
    }
   ],
   "source": [
    "# Review the results\n",
    "results = ge_dataset.validate(expectation_suite_name)\n",
    "print(results['success'])"
   ]
  },
  {
   "cell_type": "code",
   "execution_count": 21,
   "id": "9739b75b-5958-4aba-bb15-2e18794e391f",
   "metadata": {},
   "outputs": [
    {
     "name": "stdout",
     "output_type": "stream",
     "text": [
      "No data quality issues found. Stored in good_data folder.\n"
     ]
    }
   ],
   "source": [
    "if results['success']:\n",
    "    # Store file in good_data folder\n",
    "    df.to_csv('/home/sachin/DSP/airflow-spike-master/output_data/good_data/data_chunk_608.csv', index=False)\n",
    "    print(\"No data quality issues found. Stored in good_data folder.\")\n",
    "else:\n",
    "    # Store file in bad_data folder\n",
    "    df.to_csv('/home/sachin/DSP/airflow-spike-master/output_data/bad_data/data_chunk_608.csv', index=False)\n",
    "    print(\"Data quality issues found. Stored in bad_data folder.\")\n"
   ]
  },
  {
   "cell_type": "code",
   "execution_count": null,
   "id": "7d721796-2bf0-4065-8029-7de6720fed75",
   "metadata": {},
   "outputs": [],
   "source": []
  },
  {
   "cell_type": "code",
   "execution_count": null,
   "id": "f783aff2-65ae-4ee1-9122-d18463738381",
   "metadata": {},
   "outputs": [],
   "source": []
  },
  {
   "cell_type": "code",
   "execution_count": null,
   "id": "bc51e48a-c0ad-40a3-9dda-be2a4a1cdc03",
   "metadata": {},
   "outputs": [],
   "source": []
  }
 ],
 "metadata": {
  "kernelspec": {
   "display_name": "Python 3 (ipykernel)",
   "language": "python",
   "name": "python3"
  },
  "language_info": {
   "codemirror_mode": {
    "name": "ipython",
    "version": 3
   },
   "file_extension": ".py",
   "mimetype": "text/x-python",
   "name": "python",
   "nbconvert_exporter": "python",
   "pygments_lexer": "ipython3",
   "version": "3.9.19"
  }
 },
 "nbformat": 4,
 "nbformat_minor": 5
}
