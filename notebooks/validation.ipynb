{
 "cells": [
  {
   "cell_type": "code",
   "execution_count": 55,
   "id": "ffd4f74f-e3c8-4af3-b71c-e31a289d2198",
   "metadata": {},
   "outputs": [],
   "source": [
    "import pandas as pd\n",
    "from great_expectations import dataset\n",
    "import json\n",
    "from great_expectations.dataset.pandas_dataset import PandasDataset"
   ]
  },
  {
   "cell_type": "code",
   "execution_count": 56,
   "id": "f357d766-4e1f-4853-8836-f56d3a0cbf7f",
   "metadata": {},
   "outputs": [],
   "source": [
    "from great_expectations.data_context import DataContext\n",
    "import great_expectations as ge\n",
    "import pandas as pd\n",
    "\n",
    "# Set the path to your Great Expectations project directory\n",
    "ge_project_directory = '/home/sachin/DSP/gx'\n",
    "context = DataContext(context_root_dir=ge_project_directory)\n",
    "\n",
    "# Load the dataset\n",
    "df = pd.read_csv('/home/sachin/DSP/airflow-spike-master/input_data/raw-data/data_chunk_608.csv')\n",
    "\n",
    "ge_dataset = ge.dataset.PandasDataset(df)\n"
   ]
  },
  {
   "cell_type": "code",
   "execution_count": 57,
   "id": "9a1d98f1-c4d1-4f4d-8754-5a1e87d2cfdc",
   "metadata": {},
   "outputs": [
    {
     "data": {
      "text/plain": [
       "Index(['name', 'year', 'km_driven', 'fuel', 'seller_type', 'transmission',\n",
       "       'owner', 'mileage', 'engine', 'max_power', 'seats', 'car_company_name'],\n",
       "      dtype='object')"
      ]
     },
     "execution_count": 57,
     "metadata": {},
     "output_type": "execute_result"
    }
   ],
   "source": [
    "df.columns"
   ]
  },
  {
   "cell_type": "code",
   "execution_count": 58,
   "id": "a9f74286-0010-4864-9eae-e18dc0aedffe",
   "metadata": {},
   "outputs": [],
   "source": [
    "# List of your columns\n",
    "columns = [\n",
    "    'name', 'year',\n",
    "    'car_company_name'\n",
    "]\n",
    "# Adding expectation for each column to have no null values\n",
    "for column in columns:\n",
    "    ge_dataset.expect_column_values_to_not_be_null(column=column)\n"
   ]
  },
  {
   "cell_type": "code",
   "execution_count": 59,
   "id": "f12aec15-607c-4c2d-a8ce-80ec859ccb25",
   "metadata": {},
   "outputs": [
    {
     "data": {
      "text/plain": [
       "{\n",
       "  \"success\": true,\n",
       "  \"result\": {\n",
       "    \"observed_value\": \"int64\"\n",
       "  },\n",
       "  \"meta\": {},\n",
       "  \"exception_info\": {\n",
       "    \"raised_exception\": false,\n",
       "    \"exception_traceback\": null,\n",
       "    \"exception_message\": null\n",
       "  }\n",
       "}"
      ]
     },
     "execution_count": 59,
     "metadata": {},
     "output_type": "execute_result"
    }
   ],
   "source": [
    "ge_dataset.expect_column_values_to_be_in_type_list(column='year', type_list=['int'])"
   ]
  },
  {
   "cell_type": "code",
   "execution_count": 60,
   "id": "e966a08c-227a-4e2a-999d-bce99d5db622",
   "metadata": {},
   "outputs": [
    {
     "data": {
      "text/plain": [
       "{\n",
       "  \"success\": true,\n",
       "  \"result\": {\n",
       "    \"element_count\": 9,\n",
       "    \"missing_count\": 0,\n",
       "    \"missing_percent\": 0.0,\n",
       "    \"unexpected_count\": 0,\n",
       "    \"unexpected_percent\": 0.0,\n",
       "    \"unexpected_percent_total\": 0.0,\n",
       "    \"unexpected_percent_nonmissing\": 0.0,\n",
       "    \"partial_unexpected_list\": []\n",
       "  },\n",
       "  \"meta\": {},\n",
       "  \"exception_info\": {\n",
       "    \"raised_exception\": false,\n",
       "    \"exception_traceback\": null,\n",
       "    \"exception_message\": null\n",
       "  }\n",
       "}"
      ]
     },
     "execution_count": 60,
     "metadata": {},
     "output_type": "execute_result"
    }
   ],
   "source": [
    "ge_dataset.expect_column_values_to_be_in_set(column='fuel', value_set=['Petrol', 'Diesel', 'CNG', 'Electric'])"
   ]
  },
  {
   "cell_type": "code",
   "execution_count": 61,
   "id": "8629e938-eac8-495c-acc9-be4d97971677",
   "metadata": {},
   "outputs": [
    {
     "data": {
      "text/plain": [
       "{\n",
       "  \"success\": false,\n",
       "  \"result\": {\n",
       "    \"element_count\": 9,\n",
       "    \"missing_count\": 0,\n",
       "    \"missing_percent\": 0.0,\n",
       "    \"unexpected_count\": 5,\n",
       "    \"unexpected_percent\": 55.55555555555556,\n",
       "    \"unexpected_percent_total\": 55.55555555555556,\n",
       "    \"unexpected_percent_nonmissing\": 55.55555555555556,\n",
       "    \"partial_unexpected_list\": [\n",
       "      \"Fiat Linea Emotion (Diesel)\",\n",
       "      \"Honda City 2017-2020 GXi\",\n",
       "      \"Hyundai Verna Xi (Petrol)\",\n",
       "      \"Hyundai Verna 1.4 CRDi\",\n",
       "      \"Hyundai Xcent 1.2 VTVT S\"\n",
       "    ]\n",
       "  },\n",
       "  \"meta\": {},\n",
       "  \"exception_info\": {\n",
       "    \"raised_exception\": false,\n",
       "    \"exception_traceback\": null,\n",
       "    \"exception_message\": null\n",
       "  }\n",
       "}"
      ]
     },
     "execution_count": 61,
     "metadata": {},
     "output_type": "execute_result"
    }
   ],
   "source": [
    "ge_dataset.expect_column_values_to_match_regex(column='name', regex=r'^[a-zA-Z0-9\\s]+$')"
   ]
  },
  {
   "cell_type": "code",
   "execution_count": null,
   "id": "9908e32c-4960-44a1-a0c7-883c473725a8",
   "metadata": {},
   "outputs": [],
   "source": []
  },
  {
   "cell_type": "code",
   "execution_count": null,
   "id": "fb341329-ee98-4aa4-aed0-f79843540288",
   "metadata": {},
   "outputs": [],
   "source": []
  },
  {
   "cell_type": "code",
   "execution_count": 62,
   "id": "360c43be-28ff-463a-8b4f-85264f580f08",
   "metadata": {},
   "outputs": [
    {
     "data": {
      "text/plain": [
       "{\n",
       "  \"success\": false,\n",
       "  \"result\": {\n",
       "    \"element_count\": 9,\n",
       "    \"missing_count\": 0,\n",
       "    \"missing_percent\": 0.0,\n",
       "    \"unexpected_count\": 2,\n",
       "    \"unexpected_percent\": 22.22222222222222,\n",
       "    \"unexpected_percent_total\": 22.22222222222222,\n",
       "    \"unexpected_percent_nonmissing\": 22.22222222222222,\n",
       "    \"partial_unexpected_list\": [\n",
       "      \"Partnership\",\n",
       "      \"Partnership\"\n",
       "    ]\n",
       "  },\n",
       "  \"meta\": {},\n",
       "  \"exception_info\": {\n",
       "    \"raised_exception\": false,\n",
       "    \"exception_traceback\": null,\n",
       "    \"exception_message\": null\n",
       "  }\n",
       "}"
      ]
     },
     "execution_count": 62,
     "metadata": {},
     "output_type": "execute_result"
    }
   ],
   "source": [
    "ge_dataset.expect_column_values_to_be_in_set(column='seller_type', value_set=['Individual', 'Dealer'])"
   ]
  },
  {
   "cell_type": "code",
   "execution_count": 63,
   "id": "af0199ba-ea51-4f46-a547-772df5c5b3e7",
   "metadata": {},
   "outputs": [
    {
     "data": {
      "text/plain": [
       "{\n",
       "  \"success\": false,\n",
       "  \"result\": {\n",
       "    \"element_count\": 9,\n",
       "    \"missing_count\": 0,\n",
       "    \"missing_percent\": 0.0,\n",
       "    \"unexpected_count\": 1,\n",
       "    \"unexpected_percent\": 11.11111111111111,\n",
       "    \"unexpected_percent_total\": 11.11111111111111,\n",
       "    \"unexpected_percent_nonmissing\": 11.11111111111111,\n",
       "    \"partial_unexpected_list\": [\n",
       "      \"Ai\"\n",
       "    ]\n",
       "  },\n",
       "  \"meta\": {},\n",
       "  \"exception_info\": {\n",
       "    \"raised_exception\": false,\n",
       "    \"exception_traceback\": null,\n",
       "    \"exception_message\": null\n",
       "  }\n",
       "}"
      ]
     },
     "execution_count": 63,
     "metadata": {},
     "output_type": "execute_result"
    }
   ],
   "source": [
    "ge_dataset.expect_column_values_to_be_in_set(column='transmission', value_set=['Manual', 'Automatic'])"
   ]
  },
  {
   "cell_type": "code",
   "execution_count": 64,
   "id": "5b79b029-e510-4bf0-9ad0-4bf229ea6843",
   "metadata": {},
   "outputs": [
    {
     "data": {
      "text/plain": [
       "{\n",
       "  \"success\": true,\n",
       "  \"result\": {\n",
       "    \"element_count\": 9,\n",
       "    \"missing_count\": 0,\n",
       "    \"missing_percent\": 0.0,\n",
       "    \"unexpected_count\": 0,\n",
       "    \"unexpected_percent\": 0.0,\n",
       "    \"unexpected_percent_total\": 0.0,\n",
       "    \"unexpected_percent_nonmissing\": 0.0,\n",
       "    \"partial_unexpected_list\": []\n",
       "  },\n",
       "  \"meta\": {},\n",
       "  \"exception_info\": {\n",
       "    \"raised_exception\": false,\n",
       "    \"exception_traceback\": null,\n",
       "    \"exception_message\": null\n",
       "  }\n",
       "}"
      ]
     },
     "execution_count": 64,
     "metadata": {},
     "output_type": "execute_result"
    }
   ],
   "source": [
    "ge_dataset.expect_column_values_to_match_regex(column='owner', regex=r'^[a-zA-Z\\s]+$')"
   ]
  },
  {
   "cell_type": "code",
   "execution_count": null,
   "id": "751b7130-6b10-41c1-82a4-99d221d8f2a5",
   "metadata": {},
   "outputs": [],
   "source": []
  },
  {
   "cell_type": "code",
   "execution_count": 65,
   "id": "7b1dd39a-acab-40c2-9323-f7608bd5306a",
   "metadata": {},
   "outputs": [
    {
     "data": {
      "text/plain": [
       "{\n",
       "  \"success\": true,\n",
       "  \"result\": {\n",
       "    \"observed_value\": \"int64\"\n",
       "  },\n",
       "  \"meta\": {},\n",
       "  \"exception_info\": {\n",
       "    \"raised_exception\": false,\n",
       "    \"exception_traceback\": null,\n",
       "    \"exception_message\": null\n",
       "  }\n",
       "}"
      ]
     },
     "execution_count": 65,
     "metadata": {},
     "output_type": "execute_result"
    }
   ],
   "source": [
    "ge_dataset.expect_column_values_to_be_in_type_list(column='km_driven', type_list=['int'])"
   ]
  },
  {
   "cell_type": "code",
   "execution_count": null,
   "id": "1d795dc9-c94c-49b1-b653-0c47f3db2d89",
   "metadata": {},
   "outputs": [],
   "source": []
  },
  {
   "cell_type": "code",
   "execution_count": null,
   "id": "fe9dcbb2-3105-4df6-a6d3-3a5c9fb44bbc",
   "metadata": {},
   "outputs": [],
   "source": []
  },
  {
   "cell_type": "code",
   "execution_count": 66,
   "id": "e3716a45-8430-44d7-a6fa-5f9d0c927378",
   "metadata": {},
   "outputs": [
    {
     "data": {
      "text/plain": [
       "{\n",
       "  \"success\": false,\n",
       "  \"result\": {\n",
       "    \"observed_value\": 0.8366600265340756,\n",
       "    \"element_count\": 9,\n",
       "    \"missing_count\": null,\n",
       "    \"missing_percent\": null\n",
       "  },\n",
       "  \"meta\": {},\n",
       "  \"exception_info\": {\n",
       "    \"raised_exception\": false,\n",
       "    \"exception_traceback\": null,\n",
       "    \"exception_message\": null\n",
       "  }\n",
       "}"
      ]
     },
     "execution_count": 66,
     "metadata": {},
     "output_type": "execute_result"
    }
   ],
   "source": [
    "ge_dataset.expect_column_pair_cramers_phi_value_to_be_less_than(column_A='car_company_name', column_B='fuel', threshold=0.5)"
   ]
  },
  {
   "cell_type": "code",
   "execution_count": 67,
   "id": "f4db050b-3afd-4b93-aaab-d55dc38b5ced",
   "metadata": {},
   "outputs": [],
   "source": [
    "#ge_dataset.expect_column_values_to_be_between(column='seats', min_value=1, max_value=10)"
   ]
  },
  {
   "cell_type": "code",
   "execution_count": 68,
   "id": "a53426ca-25e6-431b-b792-525d1c1be424",
   "metadata": {},
   "outputs": [
    {
     "data": {
      "text/plain": [
       "{\n",
       "  \"success\": true,\n",
       "  \"result\": {\n",
       "    \"element_count\": 9,\n",
       "    \"missing_count\": 0,\n",
       "    \"missing_percent\": 0.0,\n",
       "    \"unexpected_count\": 0,\n",
       "    \"unexpected_percent\": 0.0,\n",
       "    \"unexpected_percent_total\": 0.0,\n",
       "    \"unexpected_percent_nonmissing\": 0.0,\n",
       "    \"partial_unexpected_list\": []\n",
       "  },\n",
       "  \"meta\": {},\n",
       "  \"exception_info\": {\n",
       "    \"raised_exception\": false,\n",
       "    \"exception_traceback\": null,\n",
       "    \"exception_message\": null\n",
       "  }\n",
       "}"
      ]
     },
     "execution_count": 68,
     "metadata": {},
     "output_type": "execute_result"
    }
   ],
   "source": [
    "ge_dataset.expect_column_values_to_match_regex(column='car_company_name', regex=r'^[a-zA-Z\\s]+$')"
   ]
  },
  {
   "cell_type": "code",
   "execution_count": 71,
   "id": "c30eedf5-c6fa-47b0-b2d2-f87ce3631278",
   "metadata": {},
   "outputs": [
    {
     "data": {
      "text/plain": [
       "'/home/sachin/DSP/gx/expectations/my_ex.json'"
      ]
     },
     "execution_count": 71,
     "metadata": {},
     "output_type": "execute_result"
    }
   ],
   "source": [
    "expectation_suite = ge_dataset.get_expectation_suite()\n",
    "\n",
    "# Name your expectation suite\n",
    "expectation_suite_name = \"my_ex\"\n",
    "\n",
    "# Use the DataContext to save the expectation suite\n",
    "context.save_expectation_suite(expectation_suite, expectation_suite_name)\n"
   ]
  },
  {
   "cell_type": "code",
   "execution_count": 70,
   "id": "56bd1fee-ad20-4032-80ca-439273ad88b1",
   "metadata": {},
   "outputs": [],
   "source": [
    "# # Save the expectation suite to the specified folder\n",
    "# #expectation_suite_path = \"/home/sachin/DSP/car_price_prediction/gx/\" + expectation_suite_name\n",
    "# ge_dataset.save_expectation_suite(expectation_suite_name)"
   ]
  },
  {
   "cell_type": "code",
   "execution_count": null,
   "id": "636d7d75-8aaa-45b7-b0a0-596f0e159122",
   "metadata": {},
   "outputs": [],
   "source": []
  },
  {
   "cell_type": "code",
   "execution_count": null,
   "id": "7d721796-2bf0-4065-8029-7de6720fed75",
   "metadata": {},
   "outputs": [],
   "source": []
  },
  {
   "cell_type": "code",
   "execution_count": null,
   "id": "f783aff2-65ae-4ee1-9122-d18463738381",
   "metadata": {},
   "outputs": [],
   "source": []
  },
  {
   "cell_type": "code",
   "execution_count": null,
   "id": "bc51e48a-c0ad-40a3-9dda-be2a4a1cdc03",
   "metadata": {},
   "outputs": [],
   "source": []
  }
 ],
 "metadata": {
  "kernelspec": {
   "display_name": "Python 3 (ipykernel)",
   "language": "python",
   "name": "python3"
  },
  "language_info": {
   "codemirror_mode": {
    "name": "ipython",
    "version": 3
   },
   "file_extension": ".py",
   "mimetype": "text/x-python",
   "name": "python",
   "nbconvert_exporter": "python",
   "pygments_lexer": "ipython3",
   "version": "3.9.19"
  }
 },
 "nbformat": 4,
 "nbformat_minor": 5
}
