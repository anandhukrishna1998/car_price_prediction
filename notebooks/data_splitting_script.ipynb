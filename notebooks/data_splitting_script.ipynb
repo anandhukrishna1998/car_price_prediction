{
 "cells": [
  {
   "cell_type": "code",
   "execution_count": 1,
   "id": "dd235145-b768-41ff-a0ea-34c1415e9428",
   "metadata": {},
   "outputs": [],
   "source": [
    "import pandas as pd \n",
    "import os\n",
    "\n",
    "def split_dataset(dataset_path, target_folder, num_files):\n",
    "    # Ensure the target folder exists\n",
    "    os.makedirs(target_folder, exist_ok=True)\n",
    "    \n",
    "    # Load the dataset\n",
    "    data = pd.read_csv(dataset_path)\n",
    "    \n",
    "    # Split the dataset into smaller chunks\n",
    "    chunk_size = len(data) // num_files\n",
    "    chunks = [data[i:i + chunk_size] for i in range(0, data.shape[0], chunk_size)]\n",
    "    \n",
    "    # Save each chunk to a new file in the target folder\n",
    "    for i, chunk in enumerate(chunks):\n",
    "        chunk.to_csv(f\"{target_folder}/data_chunk_{i}.csv\", index=False)\n",
    "\n",
    "# Example usage\n",
    "split_dataset('/home/sachin/DSP/car_price_prediction/data/car_details.csv', '/home/sachin/DSP/airflow-spike-master/input_data/raw-data', 10)"
   ]
  },
  {
   "cell_type": "code",
   "execution_count": null,
   "id": "a81ca610-22b7-43aa-a9f0-32d6a3e261b2",
   "metadata": {},
   "outputs": [],
   "source": []
  }
 ],
 "metadata": {
  "kernelspec": {
   "display_name": "Python 3 (ipykernel)",
   "language": "python",
   "name": "python3"
  },
  "language_info": {
   "codemirror_mode": {
    "name": "ipython",
    "version": 3
   },
   "file_extension": ".py",
   "mimetype": "text/x-python",
   "name": "python",
   "nbconvert_exporter": "python",
   "pygments_lexer": "ipython3",
   "version": "3.9.19"
  }
 },
 "nbformat": 4,
 "nbformat_minor": 5
}
